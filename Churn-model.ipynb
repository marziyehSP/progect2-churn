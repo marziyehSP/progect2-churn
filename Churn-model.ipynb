{
 "cells": [
  {
   "cell_type": "markdown",
   "id": "7707b234",
   "metadata": {},
   "source": [
    "Data Preprocessing"
   ]
  },
  {
   "cell_type": "code",
   "execution_count": null,
   "id": "7ad0f0c3",
   "metadata": {},
   "outputs": [],
   "source": [
    "# necessary libraries\n",
    "import pandas as pd\n",
    "import numpy as np\n",
    "import matplotlib.pyplot as plt\n",
    "from sklearn.model_selection import train_test_split\n",
    "from sklearn.preprocessing import StandardScaler\n",
    "import tensorflow as tf\n",
    "from sklearn.linear_model import LogisticRegression\n",
    "import pickle\n"
   ]
  },
  {
   "cell_type": "code",
   "execution_count": null,
   "id": "7ba4f611",
   "metadata": {},
   "outputs": [],
   "source": [
    "# Provide the relative file path to the bank_transaction dataset\n",
    "\n",
    "file_path = \"Churn Modeling.csv\"\n",
    "\n",
    "# Load the dataset\n",
    "dataset = pd.read_csv(file_path)\n",
    "\n",
    "# Explore the dataset\n",
    "print(\"First few rows of the dataset:\")\n",
    "print(dataset.head())  \n",
    "print(\"\\nInformation about the dataset:\")\n",
    "print(dataset.info())  \n",
    "print(\"\\nStatistical summary of the dataset:\")\n",
    "print(dataset.describe()) \n",
    "\n",
    "# Histogram of the \"Exited\" variable\n",
    "plt.hist(dataset[\"Exited\"])\n",
    "plt.xlabel(\"Exited\")\n",
    "plt.ylabel(\"Count\")\n",
    "plt.title(\"Distribution of Exited\")\n",
    "plt.show()\n",
    "\n",
    "# Preprocess the data\n",
    "cleaned_dataset = dataset.copy() \n",
    "cleaned_dataset.drop('RowNumber', axis=1, inplace=True)  # Remove the 'RowNumber' column\n",
    "\n",
    "# Convert 'Gender' column values to 1 bolian\n",
    "cleaned_dataset['Gender'] = cleaned_dataset['Gender'].replace({'Female': 1, 'Male': 0})\n",
    "\n",
    "# Remove columns with null values\n",
    "cleaned_dataset.dropna(axis=1, inplace=True)\n",
    "\n",
    "\n",
    "# Select relevant features and target variable\n",
    "selected_features = cleaned_dataset.drop([\"CustomerId\", \"Surname\", \"Exited\",\"Geography\"], axis=1)  \n",
    "target_variable = cleaned_dataset[\"Exited\"]  \n",
    "\n",
    "# Balance the dataset\n",
    "num_one_targets = int(np.sum(target_variable))\n",
    "zero_targets_counter = 0\n",
    "indices_to_remove = []\n",
    "\n",
    "for i in range(target_variable.shape[0]):\n",
    "    if target_variable[i] == 0:\n",
    "        zero_targets_counter += 1\n",
    "        if zero_targets_counter > num_one_targets:\n",
    "            indices_to_remove.append(i)\n",
    "\n",
    "selected_features_balanced = selected_features.drop(indices_to_remove)\n",
    "target_variable_balanced = target_variable.drop(indices_to_remove)\n",
    "\n",
    "# Standardize the features using StandardScaler\n",
    "scaler = StandardScaler()\n",
    "selected_features_scaled = scaler.fit_transform(selected_features_balanced)\n",
    "\n",
    "# Shuffle the data\n",
    "shuffled_indices = np.arange(selected_features_scaled.shape[0])\n",
    "np.random.shuffle(shuffled_indices)\n",
    "\n",
    "selected_features_balanced.reset_index(drop=True, inplace=True) # Reset indices\n",
    "target_variable_balanced.reset_index(drop=True, inplace=True) # Reset indice \n",
    "\n",
    "selected_features_shuffled = selected_features_scaled[shuffled_indices]\n",
    "target_variable_shuffled = target_variable_balanced[shuffled_indices]\n",
    "\n",
    "# Save the preprocessed datasets\n",
    "save_path = \"preprocessed_datasets.npz\"\n",
    "np.savez(save_path, features=selected_features_shuffled, target=target_variable_shuffled)\n",
    "\n",
    "print(\"Preprocessed datasets saved successfully.\")\n",
    "\n"
   ]
  },
  {
   "cell_type": "markdown",
   "id": "e74cc9c4",
   "metadata": {},
   "source": [
    "Logistic Regression model"
   ]
  },
  {
   "cell_type": "code",
   "execution_count": null,
   "id": "320ec183",
   "metadata": {},
   "outputs": [],
   "source": [
    "\n",
    "#  performance reporting function\n",
    "def clf_performance(classifier, model_name):\n",
    "    print(model_name)\n",
    "    print('Test Accuracy:', classifier.score(X_test, y_test))\n",
    "\n",
    "# Split the data into training and test sets\n",
    "X_train, X_test, y_train, y_test = train_test_split(selected_features_shuffled, target_variable_shuffled, test_size=0.2, random_state=42)\n",
    "\n",
    "# Create and train the logistic regression model\n",
    "logistic_model = LogisticRegression()\n",
    "logistic_model.fit(X_train, y_train)\n",
    "\n",
    "# Evaluate the model\n",
    "clf_performance(logistic_model, \"Logistic Regression\")\n"
   ]
  },
  {
   "cell_type": "markdown",
   "id": "0ed77cc7",
   "metadata": {},
   "source": [
    "Neuran network model"
   ]
  },
  {
   "cell_type": "code",
   "execution_count": null,
   "id": "959213d9",
   "metadata": {},
   "outputs": [],
   "source": [
    "# Load the preprocessed datasets\n",
    "\n",
    "# Split the dataset into train, validation, and test sets\n",
    "samples_count = selected_features_shuffled.shape[0]\n",
    "train_samples_count = int(0.8 * samples_count)\n",
    "validation_samples_count = int(0.1 * samples_count)\n",
    "test_samples_count = samples_count - train_samples_count - validation_samples_count\n",
    "\n",
    "train_inputs = selected_features_shuffled[:train_samples_count]\n",
    "train_targets = target_variable_shuffled[:train_samples_count]\n",
    "\n",
    "validation_inputs = selected_features_shuffled[train_samples_count:train_samples_count+validation_samples_count]\n",
    "validation_targets = target_variable_shuffled[train_samples_count:train_samples_count+validation_samples_count]\n",
    "\n",
    "test_inputs = selected_features_shuffled[train_samples_count+validation_samples_count:]\n",
    "test_targets = target_variable_shuffled[train_samples_count+validation_samples_count:]\n",
    "\n",
    "print(np.sum(train_targets), train_samples_count, np.sum(train_targets)/train_samples_count)\n",
    "print(np.sum(validation_targets), validation_samples_count, np.sum(validation_targets)/validation_samples_count)\n",
    "print(np.sum(test_targets), test_samples_count, np.sum(test_targets)/test_samples_count)\n",
    "\n"
   ]
  },
  {
   "cell_type": "markdown",
   "id": "2b3f498f",
   "metadata": {},
   "source": [
    "model processing"
   ]
  },
  {
   "cell_type": "code",
   "execution_count": null,
   "id": "1b0a52ba",
   "metadata": {},
   "outputs": [],
   "source": [
    "\n",
    "train_inputs = train_inputs.astype(np.float32)\n",
    "train_targets = train_targets.astype(np.int32)\n",
    "\n",
    "\n",
    "validation_inputs = validation_inputs.astype(np.float32)\n",
    "validation_targets = validation_targets.astype(np.int32)\n",
    "\n",
    "\n",
    "test_inputs = test_inputs.astype(np.float32)\n",
    "test_targets = test_targets.astype(np.int32)\n",
    "\n",
    "\n",
    "# Convert target variable to one-hot encoded format\n",
    "train_targets_encoded = tf.keras.utils.to_categorical(train_targets)\n",
    "validation_targets_encoded = tf.keras.utils.to_categorical(validation_targets)\n",
    "test_targets_encoded = tf.keras.utils.to_categorical(test_targets)\n",
    "\n",
    "\n",
    "# Model\n",
    "output_size = 2\n",
    "\n",
    "model = tf.keras.models.Sequential([\n",
    "    tf.keras.layers.Dense(units=100, activation='relu', input_shape=(selected_features_shuffled.shape[1],)),\n",
    "    tf.keras.layers.Dropout(0.5),  # Dropout regularization\n",
    "    tf.keras.layers.Dense(units=40, activation='relu'),\n",
    "    tf.keras.layers.Dense(units=output_size, activation='softmax')\n",
    "])\n",
    "\n",
    "# Compile the model\n",
    "optimizer = tf.keras.optimizers.Adam(learning_rate=0.001)\n",
    "model.compile(optimizer=optimizer, loss='categorical_crossentropy', metrics=['accuracy'])\n",
    "\n",
    "# Define early stopping criteria\n",
    "early_stopping = tf.keras.callbacks.EarlyStopping(patience=10)\n",
    "\n",
    "\n",
    "# Train the model\n",
    "history = model.fit(train_inputs, train_targets_encoded,\n",
    "                    validation_data=(validation_inputs, validation_targets_encoded),\n",
    "                    batch_size=32, epochs=100, callbacks=[early_stopping])\n",
    "\n",
    "# Evaluate the model on test data\n",
    "test_loss, test_accuracy = model.evaluate(test_inputs, test_targets_encoded)\n",
    "\n",
    "# Print the test loss and accuracy\n",
    "print(f\"Test Loss: {test_loss:.2f}\")\n",
    "print(f\"Test Accuracy: {test_accuracy:.2%}\")"
   ]
  },
  {
   "cell_type": "markdown",
   "id": "6362bc39",
   "metadata": {},
   "source": [
    "predictions"
   ]
  },
  {
   "cell_type": "code",
   "execution_count": null,
   "id": "2d35e4f5",
   "metadata": {},
   "outputs": [],
   "source": [
    "predictions = model.predict(test_inputs).round(0)\n",
    "print(predictions)"
   ]
  },
  {
   "cell_type": "code",
   "execution_count": null,
   "id": "caa4c0e1",
   "metadata": {},
   "outputs": [],
   "source": []
  }
 ],
 "metadata": {
  "kernelspec": {
   "display_name": "Python 3 (ipykernel)",
   "language": "python",
   "name": "python3"
  },
  "language_info": {
   "codemirror_mode": {
    "name": "ipython",
    "version": 3
   },
   "file_extension": ".py",
   "mimetype": "text/x-python",
   "name": "python",
   "nbconvert_exporter": "python",
   "pygments_lexer": "ipython3",
   "version": "3.9.13"
  }
 },
 "nbformat": 4,
 "nbformat_minor": 5
}
